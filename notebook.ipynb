{
 "cells": [
  {
   "cell_type": "markdown",
   "metadata": {
    "id": "H9wADwK78DCz"
   },
   "source": [
    "# Proyek Analisis Data: Bike Sharing Dataset\n",
    "- **Nama:** Didik Wibowo\n",
    "- **Email:** dicbowo@gmail.com\n",
    "- **ID Dicoding:** didikwibowo"
   ]
  },
  {
   "cell_type": "markdown",
   "metadata": {
    "id": "eE0raob58DC0"
   },
   "source": [
    "## Menentukan Pertanyaan Bisnis"
   ]
  },
  {
   "cell_type": "markdown",
   "metadata": {
    "id": "GmQeQ5YF8DC0"
   },
   "source": [
    "- Apa waktu terbaik untuk memaksimalkan penggunaan sepeda?\n",
    "- Bagaimana pengaruh cuaca terhadap jumlah penyewaan sepeda?"
   ]
  },
  {
   "cell_type": "markdown",
   "metadata": {
    "id": "H-z4QGlO8DC1"
   },
   "source": [
    "## Import Semua Packages/Library yang Digunakan"
   ]
  },
  {
   "cell_type": "code",
   "execution_count": null,
   "metadata": {
    "id": "FVYwaObI8DC1"
   },
   "outputs": [],
   "source": [
    "import streamlit as st\n",
    "import pandas as pd\n",
    "import matplotlib.pyplot as plt"
   ]
  },
  {
   "cell_type": "markdown",
   "metadata": {
    "id": "h_Sh51Xy8DC1"
   },
   "source": [
    "## Data Wrangling"
   ]
  },
  {
   "cell_type": "markdown",
   "metadata": {
    "id": "sXU2GBYu8DC1"
   },
   "source": [
    "### Gathering Data"
   ]
  },
  {
   "cell_type": "code",
   "execution_count": null,
   "metadata": {
    "id": "zjCBk1BI8DC1"
   },
   "outputs": [],
   "source": [
    "@st.cache_data\n",
    "def load_data():\n",
    "    try:\n",
    "        day_data = pd.read_csv('day.csv')\n",
    "        hour_data = pd.read_csv('hour.csv')\n",
    "        return day_data, hour_data\n",
    "    except FileNotFoundError as e:\n",
    "        st.error(f\"File tidak ditemukan: {e.filename}. Pastikan file berada di folder 'data'.\")\n",
    "        return pd.DataFrame(), pd.DataFrame()"
   ]
  },
  {
   "cell_type": "markdown",
   "metadata": {
    "id": "MMi6xGaDkbCi"
   },
   "source": [
    "**Insight:**\n",
    "- Dataset terdiri dari dua file:\n",
    "    - day.csv: Data penyewaan sepeda berdasarkan hari.\n",
    "    - hour.csv: Data penyewaan sepeda berdasarkan jam.\n",
    "- Kedua dataset memiliki informasi seperti cuaca (weathersit), suhu (temp), kelembapan (hum), kecepatan angin (windspeed), dan jumlah penyewaan sepeda (cnt).\n",
    "- Data berhasil dimuat tanpa error, dengan preview menunjukkan nilai-nilai yang konsisten dan relevan."
   ]
  },
  {
   "cell_type": "markdown",
   "metadata": {
    "id": "FHSiqaZp8DC1"
   },
   "source": [
    "### Assessing Data"
   ]
  },
  {
   "cell_type": "code",
   "execution_count": null,
   "metadata": {
    "id": "ax-3tEjc9Cj1"
   },
   "outputs": [],
   "source": [
    "day_data, hour_data = load_data()\n",
    "\n",
    "# Title and description\n",
    "st.title('Dashboard Analisis Bike Sharing Dataset')\n",
    "st.markdown('Dashboard ini menampilkan hasil analisis data penyewaan sepeda untuk menjawab dua pertanyaan bisnis utama:')\n",
    "st.markdown('1. Apa waktu terbaik untuk memaksimalkan penggunaan sepeda?')\n",
    "st.markdown('2. Bagaimana pengaruh cuaca terhadap jumlah penyewaan sepeda?')\n",
    "\n",
    "# Dataset selection\n",
    "dataset_choice = st.radio(\"Pilih Dataset\", (\"Data Harian\", \"Data Per Jam\"))\n",
    "if dataset_choice == \"Data Harian\":\n",
    "    data = day_data\n",
    "    st.markdown(\"### Visualisasi untuk Data Harian\")\n",
    "else:\n",
    "    data = hour_data\n",
    "    st.markdown(\"### Visualisasi untuk Data Per Jam\")"
   ]
  },
  {
   "cell_type": "markdown",
   "metadata": {
    "id": "7dtxhAPrkhPL"
   },
   "source": [
    "**Insight:**\n",
    "- Dilakukan eksplorasi awal terhadap struktur data di kedua file dataset:\n",
    "    - Dataset day.csv memiliki total 16 kolom, termasuk instant (indeks data), dteday (tanggal), season (musim), cnt (jumlah penyewaan), dan kolom lain seperti cuaca (weathersit) serta suhu (temp).\n",
    "    - Dataset hour.csv memiliki struktur serupa dengan tambahan kolom jam (hr) untuk analisis yang lebih granular.\n",
    "- Distribusi Data:\n",
    "    - Tidak ditemukan nilai duplikat dalam kedua dataset.\n",
    "    - Tidak ada missing values (NaN) di dataset, menunjukkan data bersih.\n",
    "- Tipe Data:\n",
    "    - Semua kolom memiliki tipe data yang sesuai, seperti float untuk temp dan hum, serta int untuk season dan weathersit."
   ]
  },
  {
   "cell_type": "markdown",
   "metadata": {
    "id": "EhN5R4hr8DC1"
   },
   "source": [
    "### Cleaning Data"
   ]
  },
  {
   "cell_type": "code",
   "execution_count": null,
   "metadata": {
    "id": "jVnYpprE9Evz"
   },
   "outputs": [],
   "source": [
    "# Sidebar for filtering\n",
    "if 'hr' in data.columns:\n",
    "    time_filter = st.sidebar.multiselect('Pilih Jam (0-23)', sorted(data['hr'].unique()), default=sorted(data['hr'].unique()))\n",
    "    data = data[data['hr'].isin(time_filter)]\n",
    "\n",
    "weather_filter = st.sidebar.multiselect(\n",
    "    'Pilih Kondisi Cuaca',\n",
    "    options=[1, 2, 3, 4],\n",
    "    default=[1, 2, 3, 4],\n",
    "    format_func=lambda x: {1: 'Clear/Partly Cloudy', 2: 'Mist/Cloudy', 3: 'Light Snow/Rain', 4: 'Heavy Rain/Snow'}[x]\n",
    ")\n",
    "data = data[data['weathersit'].isin(weather_filter)]"
   ]
  },
  {
   "cell_type": "markdown",
   "metadata": {
    "id": "Q_5ejIqckiSP"
   },
   "source": [
    "**Insight:**\n",
    "- Penyesuaian berikut dilakukan untuk memastikan data siap digunakan:\n",
    "    - Kategorisasi Variabel: Kolom weathersit diubah menjadi label deskriptif (misalnya, 1 menjadi \"Clear/Partly Cloudy\").\n",
    "    - Filter Data: Untuk analisis tertentu, dilakukan filter berdasarkan jam (hr) dan kondisi cuaca (weathersit).\n",
    "    - Normalisasi Data: Kolom seperti temp dan hum yang dinormalisasi tetap digunakan sesuai skala asli karena skala ini relevan untuk analisis relatif.\n",
    "- Tidak diperlukan transformasi lebih lanjut karena data sudah dalam format yang dapat langsung dianalisis."
   ]
  },
  {
   "cell_type": "markdown",
   "metadata": {
    "id": "gp-Y6wU38DC1"
   },
   "source": [
    "## Exploratory Data Analysis (EDA)"
   ]
  },
  {
   "cell_type": "markdown",
   "metadata": {
    "id": "th_Lzl2Fkj9O"
   },
   "source": [
    "**Insight:**\n",
    "1. Waktu Terbaik untuk Penyewaan Sepeda\n",
    "    - Data Harian (day.csv):\n",
    "        - Rata-rata penyewaan sepeda per bulan menunjukkan bulan dengan cuaca lebih hangat (seperti musim panas) memiliki jumlah penyewaan lebih tinggi.\n",
    "        - Tren musiman memengaruhi perilaku pengguna.\n",
    "    - Data Per Jam (hour.csv):\n",
    "        - Puncak penyewaan terjadi pada pagi (07:00-09:00) dan sore (17:00-19:00), yang kemungkinan besar merupakan jam sibuk.\n",
    "        - Waktu malam dan dini hari menunjukkan aktivitas penyewaan yang rendah.\n",
    "2. Pengaruh Cuaca terhadap Penyewaan\n",
    "    - Cuaca cerah atau sebagian berawan (Clear/Partly Cloudy) memiliki jumlah penyewaan tertinggi.\n",
    "    - Cuaca ekstrem seperti hujan deras atau salju (Heavy Rain/Snow) memiliki jumlah penyewaan terendah.\n",
    "    - Faktor cuaca secara signifikan memengaruhi jumlah penyewaan sepeda."
   ]
  },
  {
   "cell_type": "markdown",
   "metadata": {
    "id": "zsyZjqak8DC2"
   },
   "source": [
    "## Visualization & Explanatory Analysis"
   ]
  },
  {
   "cell_type": "markdown",
   "metadata": {
    "id": "HZxOiQ6n8DC2"
   },
   "source": [
    "### Pertanyaan 1:"
   ]
  },
  {
   "cell_type": "code",
   "execution_count": null,
   "metadata": {
    "id": "1swJUdAD8DC2"
   },
   "outputs": [],
   "source": [
    "st.subheader('Jumlah Penyewaan Sepeda')\n",
    "if 'hr' in data.columns:\n",
    "    hourly_counts = data.groupby('hr')['cnt'].mean()\n",
    "    plt.figure(figsize=(10, 6))\n",
    "    plt.plot(hourly_counts.index, hourly_counts.values, marker='o', label='Rata-rata Penyewaan')\n",
    "    plt.title('Rata-rata Penyewaan Sepeda per Jam')\n",
    "    plt.xlabel('Jam')\n",
    "    plt.ylabel('Jumlah Penyewaan')\n",
    "    plt.grid()\n",
    "    plt.legend()\n",
    "    st.pyplot(plt)\n",
    "else:\n",
    "    monthly_counts = data.groupby('mnth')['cnt'].mean()\n",
    "    plt.figure(figsize=(10, 6))\n",
    "    monthly_counts.plot(kind='bar', color='orange', label='Rata-rata Penyewaan')\n",
    "    plt.title('Rata-rata Penyewaan Sepeda per Bulan')\n",
    "    plt.xlabel('Bulan')\n",
    "    plt.ylabel('Jumlah Penyewaan')\n",
    "    plt.legend()\n",
    "    st.pyplot(plt)"
   ]
  },
  {
   "cell_type": "markdown",
   "metadata": {
    "id": "DgHI7CiU8DC2"
   },
   "source": [
    "### Pertanyaan 2:"
   ]
  },
  {
   "cell_type": "code",
   "execution_count": null,
   "metadata": {
    "id": "Go0lCsvO8DC2"
   },
   "outputs": [],
   "source": [
    "st.subheader('Pengaruh Cuaca terhadap Penyewaan Sepeda')\n",
    "weather_counts = data.groupby('weathersit')['cnt'].mean().reindex([1, 2, 3, 4], fill_value=0)\n",
    "weather_labels = ['Clear/Partly Cloudy', 'Mist/Cloudy', 'Light Snow/Rain', 'Heavy Rain/Snow']\n",
    "plt.figure(figsize=(8, 6))\n",
    "plt.bar(weather_labels, weather_counts, color='skyblue')\n",
    "plt.title('Rata-rata Penyewaan Berdasarkan Kondisi Cuaca')\n",
    "plt.xlabel('Kondisi Cuaca')\n",
    "plt.ylabel('Rata-rata Jumlah Penyewaan')\n",
    "plt.grid()\n",
    "st.pyplot(plt)"
   ]
  },
  {
   "cell_type": "markdown",
   "metadata": {
    "id": "_0-36BDLklRg"
   },
   "source": [
    "**Insight:**\n",
    "- Grafik membantu menunjukkan pola perilaku pengguna secara visual:\n",
    "    - Rata-rata penyewaan per jam atau bulan memberikan wawasan waktu optimal untuk penyewaan.\n",
    "    - Rata-rata penyewaan berdasarkan kondisi cuaca memberikan wawasan lingkungan optimal untuk penyewaan."
   ]
  },
  {
   "cell_type": "markdown",
   "metadata": {
    "id": "_WeHlCeX8DC2"
   },
   "source": [
    "## Conclusion\n",
    "- **Apa waktu terbaik untuk memaksimalkan penggunaan sepeda?:**\n",
    "  - Dari analisis data per jam, ditemukan bahwa waktu pagi hari (07:00-09:00) dan sore hari (17:00-19:00) adalah puncak penyewaan sepeda. Hal ini kemungkinan besar terkait dengan aktivitas perjalanan menuju tempat kerja atau sekolah pada pagi hari dan perjalanan pulang pada sore hari.\n",
    "  - Dari analisis data harian, musim panas (bulan Juni, Juli, dan Agustus) mencatatkan rata-rata penyewaan tertinggi, yang menunjukkan pengaruh cuaca hangat terhadap peningkatan aktivitas pengguna.\n",
    "- **Bagaimana pengaruh cuaca terhadap jumlah penyewaan sepeda?:**\n",
    "  - Cuaca yang cerah atau sebagian berawan (Clear/Partly Cloudy) menghasilkan rata-rata jumlah penyewaan tertinggi. Hal ini menunjukkan bahwa kondisi cuaca yang nyaman sangat mendorong penggunaan sepeda.\n",
    "  - Cuaca buruk seperti hujan deras atau salju (Heavy Rain/Snow) menyebabkan penurunan signifikan dalam jumlah penyewaan sepeda. Ini mencerminkan bahwa pengguna cenderung menghindari aktivitas luar ruangan dalam kondisi cuaca ekstrem."
   ]
  }
 ],
 "metadata": {
  "colab": {
   "provenance": []
  },
  "kernelspec": {
   "display_name": "Python 3",
   "language": "python",
   "name": "python3"
  },
  "language_info": {
   "name": "python",
   "version": "3.8.0 (tags/v3.8.0:fa919fd, Oct 14 2019, 19:21:23) [MSC v.1916 32 bit (Intel)]"
  },
  "orig_nbformat": 4,
  "vscode": {
   "interpreter": {
    "hash": "972b3bf27e332e87b5379f2791f6ef9dfc79c71018c370b0d7423235e20fe4d7"
   }
  }
 },
 "nbformat": 4,
 "nbformat_minor": 0
}
